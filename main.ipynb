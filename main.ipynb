{
 "cells": [
  {
   "attachments": {},
   "cell_type": "markdown",
   "metadata": {},
   "source": [
    "# Imports"
   ]
  },
  {
   "cell_type": "code",
   "execution_count": 177,
   "metadata": {},
   "outputs": [],
   "source": [
    "import textract # extract the text from the image\n",
    "import numpy as np # use to dealing with arrays and matrices\n",
    "import cv2 # dealing with videos and images\n",
    "import os # dealing with operating system\n",
    "import datetime # dealing with data and time\n",
    "import openpyxl # used to dealing with excel sheets"
   ]
  },
  {
   "attachments": {},
   "cell_type": "markdown",
   "metadata": {},
   "source": [
    "# Filter Function"
   ]
  },
  {
   "cell_type": "code",
   "execution_count": 178,
   "metadata": {},
   "outputs": [],
   "source": [
    "# This function is used to filter the text to extract the code from the card\n",
    "def filter(list_text):    \n",
    "    needed_text = 'Code : '    \n",
    "    for i in list_text:\n",
    "        # Check if the element is numeric\n",
    "        if i.isnumeric():\n",
    "            needed_text+=i +' '\n",
    "    return needed_text "
   ]
  },
  {
   "attachments": {},
   "cell_type": "markdown",
   "metadata": {},
   "source": [
    "# Read the students excel file"
   ]
  },
  {
   "cell_type": "code",
   "execution_count": 183,
   "metadata": {},
   "outputs": [
    {
     "data": {
      "text/plain": [
       "{'Code : 205096 ': 'Ahmed Khattab',\n",
       " 'Code : 205004 ': 'Omar Mohamed',\n",
       " 'Code : 205036 ': 'Mohamed Fayez',\n",
       " 'Code : 205094 ': 'Abdelnasser'}"
      ]
     },
     "execution_count": 183,
     "metadata": {},
     "output_type": "execute_result"
    }
   ],
   "source": [
    "# load the excel sheet\n",
    "workbook = openpyxl.load_workbook('Students.xlsx')\n",
    "# select the sheet from the file\n",
    "sheet = workbook['ورقة1']  \n",
    "\n",
    "# initialize dict to store students names and IDs\n",
    "attend_list ={}\n",
    "# loop on the sheet rows to extract the students name and ID\n",
    "for student_name, student_id in sheet.iter_rows(min_row=1, values_only=True):\n",
    "    attend_list[f'Code : {student_id} '] = student_name\n",
    "\n",
    "attend_list"
   ]
  },
  {
   "attachments": {},
   "cell_type": "markdown",
   "metadata": {},
   "source": [
    "# Incialize the important variables"
   ]
  },
  {
   "cell_type": "code",
   "execution_count": 181,
   "metadata": {},
   "outputs": [],
   "source": [
    "# the list that contains the recorded studen\n",
    "recorded_ID = []\n",
    "\n",
    "# get the date of the day\n",
    "current_data = datetime.datetime.now().date()"
   ]
  },
  {
   "attachments": {},
   "cell_type": "markdown",
   "metadata": {},
   "source": [
    "# Main program "
   ]
  },
  {
   "cell_type": "code",
   "execution_count": 182,
   "metadata": {},
   "outputs": [
    {
     "name": "stdout",
     "output_type": "stream",
     "text": [
      "Ahmed Khattab: Code : 205096  is recorded\n",
      "Ahmed Khattab: Code : 205096  is already recorded\n",
      "Omar Mohamed: Code : 205004  is recorded\n"
     ]
    }
   ],
   "source": [
    "# Create a workbook - represents an Excel file\n",
    "workbook = openpyxl.Workbook()\n",
    "# activate the sheet to allow write on it\n",
    "sheet = workbook.active\n",
    "\n",
    "# video capture\n",
    "cap = cv2.VideoCapture(0)\n",
    "\n",
    "# main loop of the program\n",
    "while cap.isOpened():\n",
    "    # get the time in hours and minuts and seconds\n",
    "    current_time = datetime.datetime.now().hour\n",
    "    current_min = datetime.datetime.now().minute\n",
    "    current_sec = datetime.datetime.now().second\n",
    "    \n",
    "    # capture the frames of the video\n",
    "    ret, frame = cap.read()\n",
    "    if ret:                \n",
    "        # Apply processing to frames\n",
    "        gray = cv2.cvtColor(frame, cv2.COLOR_BGR2GRAY)\n",
    "        # Apply GaussianBlur to the frames\n",
    "        blurred = cv2.GaussianBlur(gray, (3, 3), 0)\n",
    "        \n",
    "        # THRESH_OTSU automatically determine the optimal threshold based on the image histogram.\n",
    "        _, thresh = cv2.threshold(blurred, 0, 255, cv2.THRESH_BINARY_INV + cv2.THRESH_OTSU) # converts the grayscale image into a binary image\n",
    "        \n",
    "        \n",
    "        # useful for general noise removal and smoothing effects.\n",
    "        # kernel = np.array([[1, 0, 1],\n",
    "        #                    [0, 1, 0],\n",
    "        #                    [1, 0, 1]], dtype=np.uint8)\n",
    "        \n",
    "        \n",
    "        # useful for enhancing and thickening text or line-like structures.\n",
    "        kernel = np.array([[0, 1, 0],\n",
    "                           [1, 1, 1],\n",
    "                           [0, 1, 0]], dtype=np.uint8)\n",
    "        \n",
    "        # Apply dilation and erosion on the binary image\n",
    "        dilated = cv2.dilate(thresh, kernel, iterations=1)\n",
    "        eroded = cv2.erode(dilated, kernel, iterations=1)\n",
    "        \n",
    "        \n",
    "        image_path = \"temp.png\"  # Temporary file path\n",
    "        cv2.imwrite(image_path, eroded)  # Save the image frame\n",
    "        \n",
    "        # Process the saved image file using textract\n",
    "        text = textract.process(image_path, method='tesseract', language='eng') # Tesseract is commonly used for extracting text from images.\n",
    "       \n",
    "        # function returns the extracted text as bytes so we need to use (decode) to convert it to string \n",
    "        text = text.decode('utf-8')\n",
    "        \n",
    "        list_text = text.split() # tokenize the text into words.\n",
    "        \n",
    "        # filtering the text to extract the part of interest.\n",
    "        needed_text = filter(list_text)\n",
    "                \n",
    "        # check if the ID is in our attendance list of students.\n",
    "        if needed_text in attend_list:\n",
    "            \n",
    "            #check if the student is already attend\n",
    "            if needed_text not in recorded_ID:\n",
    "                \n",
    "                # add the student to recorded ID list.\n",
    "                recorded_ID.append(needed_text)\n",
    "                \n",
    "                # print student name - ID is recorded\n",
    "                print(f'{attend_list[needed_text]}: {needed_text} is recorded')\n",
    "    \n",
    "                # row is an list that contain the name and the ID\n",
    "                row = [attend_list[needed_text], needed_text , f'Date : {current_data}' , f'Hours : {current_time}' , f'Minuts {current_min}', f'Seconds {current_sec}']\n",
    "                # add this list to the attendance sheet\n",
    "                sheet.append(row)\n",
    "           \n",
    "            else: \n",
    "                # if the student is already recorded\n",
    "                print(f'{attend_list[needed_text]}: {needed_text} is already recorded')\n",
    "        \n",
    "        \n",
    "        # Save the Excel sheet as attendance.xlsx\n",
    "        workbook.save('attendance.xlsx')  \n",
    "        \n",
    "        # display the video to students\n",
    "        cv2.imshow(\"card\", eroded)\n",
    "        \n",
    "        # check if the user is press q\n",
    "        if cv2.waitKey(50) & 0xFF == ord('q'):\n",
    "            break\n",
    "    # if the video frams stop readed\n",
    "    else:\n",
    "        break\n",
    "\n",
    "# release the capture\n",
    "cap.release()\n",
    "# destroy the window after program is terminate\n",
    "cv2.destroyAllWindows()\n",
    "# remove the temporary image\n",
    "os.remove('temp.png')\n"
   ]
  }
 ],
 "metadata": {
  "kernelspec": {
   "display_name": "Python 3 (ipykernel)",
   "language": "python",
   "name": "python3"
  },
  "language_info": {
   "codemirror_mode": {
    "name": "ipython",
    "version": 3
   },
   "file_extension": ".py",
   "mimetype": "text/x-python",
   "name": "python",
   "nbconvert_exporter": "python",
   "pygments_lexer": "ipython3",
   "version": "3.11.0"
  }
 },
 "nbformat": 4,
 "nbformat_minor": 2
}
